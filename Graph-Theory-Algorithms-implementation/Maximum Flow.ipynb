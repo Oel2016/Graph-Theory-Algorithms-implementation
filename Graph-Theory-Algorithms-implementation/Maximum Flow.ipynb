{
 "cells": [
  {
   "cell_type": "markdown",
   "metadata": {},
   "source": [
    " ### TD2 : Algorithme de Ford-Fulkerson "
   ]
  },
  {
   "cell_type": "code",
   "execution_count": 1,
   "metadata": {},
   "outputs": [],
   "source": [
    "import numpy as np\n",
    "from math import inf "
   ]
  },
  {
   "cell_type": "code",
   "execution_count": 2,
   "metadata": {},
   "outputs": [],
   "source": [
    "A=[[0,3,0,3,5,0,0,0],[0,0,2,0,0,0,0,0],[0,0,0,0,0,1,0,0],[0,0,1,0,0,0,0,0],[0,0,0,3,0,0,2,7],[0,0,0,0,0,0,3,0],[0,0,0,1,0,0,0,2],[0,0,0,0,0,6,0,0]]"
   ]
  },
  {
   "cell_type": "code",
   "execution_count": 3,
   "metadata": {},
   "outputs": [
    {
     "data": {
      "text/plain": [
       "[[0, 3, 0, 3, 5, 0, 0, 0],\n",
       " [0, 0, 2, 0, 0, 0, 0, 0],\n",
       " [0, 0, 0, 0, 0, 1, 0, 0],\n",
       " [0, 0, 1, 0, 0, 0, 0, 0],\n",
       " [0, 0, 0, 3, 0, 0, 2, 7],\n",
       " [0, 0, 0, 0, 0, 0, 3, 0],\n",
       " [0, 0, 0, 1, 0, 0, 0, 2],\n",
       " [0, 0, 0, 0, 0, 6, 0, 0]]"
      ]
     },
     "execution_count": 3,
     "metadata": {},
     "output_type": "execute_result"
    }
   ],
   "source": [
    "A"
   ]
  },
  {
   "cell_type": "code",
   "execution_count": 4,
   "metadata": {},
   "outputs": [],
   "source": [
    "def FF(A,s,t):\n",
    "    n=len(A)\n",
    "    f=[[0,0,0,0,0,0,0,0],[0,0,0,0,0,0,0,0],[0,0,0,0,0,0,0,0],[0,0,0,0,0,0,0,0],[0,0,0,0,0,0,0,0],[0,0,0,0,0,0,0,0],[0,0,0,0,0,0,0,0],[0,0,0,0,0,0,0,0]]\n",
    "    gamma=[[0,3,0,3,5,0,0,0],[0,0,2,0,0,0,0,0],[0,0,0,0,0,1,0,0],[0,0,1,0,0,0,0,0],[0,0,0,3,0,0,2,7],[0,0,0,0,0,0,3,0],[0,0,0,1,0,0,0,2],[0,0,0,0,0,6,0,0]]\n",
    "    Q=[1]+[0 for k in range(n-1)]\n",
    "    while Q!=[0 for k in range(n)]:\n",
    "        Q=[1]+[0 for k in range(n-1)]\n",
    "        P=[0]+[inf for k in range(n-1)]\n",
    "        l=inf\n",
    "        for i in range(len(Q)):\n",
    "            if Q[i]==1:\n",
    "                Q[i]=0\n",
    "                for k in A[i]: \n",
    "                    if k!=0:\n",
    "                        j=A[i].index(k) \n",
    "                        if gamma[i][j]>0 and P[j]==inf:\n",
    "                            Q[j]=1\n",
    "                            P[j]=i\n",
    "                            l=min(gamma[i][j],l)\n",
    "            if Q==[0 for k in range(n)] or P[t]!=inf:\n",
    "                break \n",
    "        C=[(P[i],i) for i in range(1,len(P))]\n",
    "        for i in range(n):\n",
    "            for j in range(n):\n",
    "                if (i,j) in C and A[i][j]!=0:\n",
    "                    f[i][j]+=l\n",
    "                    if (i,j) in C and A[i][j]==0:\n",
    "                        if A[j][i]!=0:\n",
    "                            f[i][j]-=l\n",
    "    F=sum(f[s])\n",
    "    return f,F    "
   ]
  },
  {
   "cell_type": "code",
   "execution_count": null,
   "metadata": {},
   "outputs": [],
   "source": [
    "FF(A,0,6)"
   ]
  }
 ],
 "metadata": {
  "kernelspec": {
   "display_name": "Python 3",
   "language": "python",
   "name": "python3"
  },
  "language_info": {
   "codemirror_mode": {
    "name": "ipython",
    "version": 3
   },
   "file_extension": ".py",
   "mimetype": "text/x-python",
   "name": "python",
   "nbconvert_exporter": "python",
   "pygments_lexer": "ipython3",
   "version": "3.8.5"
  }
 },
 "nbformat": 4,
 "nbformat_minor": 4
}
