{
 "cells": [
  {
   "cell_type": "markdown",
   "metadata": {},
   "source": [
    "## By Omar ELGHAFFOULI-2A-ECC"
   ]
  },
  {
   "cell_type": "markdown",
   "metadata": {},
   "source": [
    "### TD1 : Algorithme de dijkstra"
   ]
  },
  {
   "cell_type": "code",
   "execution_count": 38,
   "metadata": {},
   "outputs": [],
   "source": [
    "import numpy as np\n",
    "from math import inf "
   ]
  },
  {
   "cell_type": "code",
   "execution_count": 34,
   "metadata": {},
   "outputs": [],
   "source": [
    "def PCCDij(A,s):\n",
    "    n=len(A)\n",
    "    l=[0]+[np.sum(A) for k in range(n-1)]\n",
    "    Q=[s]\n",
    "    while len(Q)!=0:\n",
    "        h=[l[e] for e in Q]\n",
    "        m=h[0]\n",
    "        p=Q[0]\n",
    "        for e in Q: # chercher le minimum\n",
    "            if l[e]<m:\n",
    "                m=l[e]\n",
    "                p=e\n",
    "        Q.remove(p)\n",
    "        for k in A[p]: \n",
    "            if k!=0:\n",
    "                j=A[p].index(k)\n",
    "                if l[j]>m+A[p][j]:\n",
    "                    l[j]=m+A[p][j]\n",
    "                    Q.append(j)\n",
    "    return l   "
   ]
  },
  {
   "cell_type": "code",
   "execution_count": 35,
   "metadata": {},
   "outputs": [],
   "source": [
    "A=[[0,3,1,0],[0,0,1,2],[0,1,0,3],[0,0,0,0]]"
   ]
  },
  {
   "cell_type": "code",
   "execution_count": 37,
   "metadata": {},
   "outputs": [
    {
     "data": {
      "text/plain": [
       "[0, 2, 1, 4]"
      ]
     },
     "execution_count": 37,
     "metadata": {},
     "output_type": "execute_result"
    }
   ],
   "source": [
    "PCCDij(A,0)"
   ]
  },
  {
   "cell_type": "markdown",
   "metadata": {},
   "source": [
    "### TD2 : Algorithme de Ford-Fulkerson "
   ]
  },
  {
   "cell_type": "code",
   "execution_count": 39,
   "metadata": {},
   "outputs": [],
   "source": [
    "def FF(A,s,t):\n",
    "    n=len(A)\n",
    "    f=[[0,0,0,0,0,0,0,0],[0,0,0,0,0,0,0,0],[0,0,0,0,0,0,0,0],[0,0,0,0,0,0,0,0],[0,0,0,0,0,0,0,0],[0,0,0,0,0,0,0,0],[0,0,0,0,0,0,0,0],[0,0,0,0,0,0,0,0]]\n",
    "    gamma=[[0,3,0,3,5,0,0,0],[0,0,2,0,0,0,0,0],[0,0,0,0,0,1,0,0],[0,0,1,0,0,0,0,0],[0,0,0,3,0,0,2,7],[0,0,0,0,0,0,3,0],[0,0,0,1,0,0,0,2],[0,0,0,0,0,6,0,0]]\n",
    "    Q=[1]+[0 for k in range(n-1)]\n",
    "    while Q!=[0 for k in range(n)]:\n",
    "        Q=[1]+[0 for k in range(n-1)]\n",
    "        P=[0]+[inf for k in range(n-1)]\n",
    "        l=inf\n",
    "        for i in range(len(Q)):\n",
    "            if Q[i]==1:\n",
    "                Q[i]=0\n",
    "                for k in A[i]: \n",
    "                    if k!=0:\n",
    "                        j=A[i].index(k) \n",
    "                        if gamma[i][j]>0 and P[j]==inf:\n",
    "                            Q[j]=1\n",
    "                            P[j]=i\n",
    "                            l=min(gamma[i][j],l)\n",
    "            if Q==[0 for k in range(n)] or P[t]!=inf:\n",
    "                break \n",
    "        C=[(P[i],i) for i in range(1,len(P))]\n",
    "        for i in range(n):\n",
    "            for j in range(n):\n",
    "                if (i,j) in C and A[i][j]!=0:\n",
    "                    f[i][j]+=l\n",
    "                    if (i,j) in C and A[i][j]==0:\n",
    "                        if A[j][i]!=0:\n",
    "                            f[i][j]-=l\n",
    "    F=sum(f[s])\n",
    "    return f,F    "
   ]
  },
  {
   "cell_type": "markdown",
   "metadata": {},
   "source": [
    "### TD3 : Algorithme Tabou pour le jobshop "
   ]
  },
  {
   "cell_type": "code",
   "execution_count": 2,
   "metadata": {},
   "outputs": [],
   "source": [
    "import numpy as np "
   ]
  },
  {
   "cell_type": "code",
   "execution_count": 8,
   "metadata": {},
   "outputs": [],
   "source": [
    "def t(G,i,j):\n",
    "    if G[i][j] != 0 and i!=0: #l'arc existe et i n'est pas le debut\n",
    "        return 1\n",
    "    else: #i est le debut ou soit il y a pas d'arc\n",
    "        return 0"
   ]
  },
  {
   "cell_type": "code",
   "execution_count": 9,
   "metadata": {},
   "outputs": [],
   "source": [
    "def indice_couple(indice_piece,indice_machine,n,m):  # n=nombre de pièce et m=nombre de machines \n",
    "    matrice_indices = np.zeros((n,m))                    # associe à chaque couple produit,machine un indice de sommet sur le graphe \n",
    "    pos = 1\n",
    "    for i in range(n):\n",
    "        for j in range (m):\n",
    "            matrice_indices[i][j] = pos\n",
    "            pos +=1\n",
    "    return matrice_indices[indice_piece][indice_machine]"
   ]
  },
  {
   "cell_type": "code",
   "execution_count": 6,
   "metadata": {},
   "outputs": [],
   "source": [
    "def couple_indice(indice_pièce_machine,n,m):    # à partir du noeud, donne le couple produit,machine correspondant \n",
    "    pos = 1\n",
    "    for i in range(n):\n",
    "        for j in range (m):\n",
    "            if pos == indice_pièce_machine:\n",
    "                return (i,j)\n",
    "            pos +=1"
   ]
  },
  {
   "cell_type": "code",
   "execution_count": 7,
   "metadata": {},
   "outputs": [],
   "source": [
    "def nom_machine_gamme(Gamme,indice_piece, position): # dans la gamme, on associe chaque ligne à une pièce \n",
    "    return Gamme[indice_piece][position]"
   ]
  },
  {
   "cell_type": "code",
   "execution_count": 10,
   "metadata": {},
   "outputs": [],
   "source": [
    "def nom_piece_s(s,indice_machine,position):  # dans la solution s, on associe chaque ligne à une machine \n",
    "    return s[indice_machine][position] "
   ]
  },
  {
   "cell_type": "code",
   "execution_count": 13,
   "metadata": {},
   "outputs": [],
   "source": [
    "def Graphe(s): #s est une matrice    s ici c'est la gamme opératoire \n",
    "    #initialisation du graphe\n",
    "    nb_noeuds =  2 + len(s)*len(s[0])\n",
    "    taille_matrice = nb_noeuds\n",
    "    A = np.full((taille_matrice,taille_matrice),0)\n",
    "\n",
    "\n",
    "  # arcs noirs\n",
    "    for i  in range(len(s)):\n",
    "        for j in range (len(s[0])-1): # sauf la dernière\n",
    "            pièce = i + 1\n",
    "            indice_pièce = i\n",
    "            indice_machine1 = nom_machine_gamme(s,indice_pièce, j)\n",
    "            indice_machine2 = nom_machine_gamme(s,indice_pièce, j+1)\n",
    "            pos1 = indice_couple(indice_pièce,indice_machine1,len(s),len(s[0]))\n",
    "            pos2 = indice_couple(indice_pièce,indice_machine2,len(s),len(s[0]))\n",
    "            A[pos1][pos2] = Valeur[0][1]\n",
    "      # arcs verts\n",
    "    for indice_pièce in range (len(s)):\n",
    "        #lier le début à (piècei, première machine associée)\n",
    "        indice_debut = 0\n",
    "        première_machine = nom_machine_gamme(s,indice_pièce, 0); \n",
    "        indice_pièce_machine = indice_couple(indice_pièce,première_machine,len(s),len(s[0]) )\n",
    "        A[indice_debut][indice_pièceETmachine] = Valeur[0][0]\n",
    "        #lier la fin à (piècei, premièrdernière machine associée)\n",
    "        indice_fin = len(A)-1\n",
    "        dernière_machine = nom_machine_gamme(s,indice_pièce, -1+len(s[i]));\n",
    "        indice_pièce_machine = indice_couple(indice_pièce,dernière_machine,len(s),len(s[0]))\n",
    "        A[indice_pièce_machine][indice_fin] = Valeur[0][1]\n",
    "\n",
    "    return A"
   ]
  },
  {
   "cell_type": "code",
   "execution_count": 15,
   "metadata": {},
   "outputs": [],
   "source": [
    "def predecesseurs(G,s):\n",
    "    predecesseurs = [i for i in range(len(G)) if G[i][s]!=NOLINK]+int(G[0][s]==Valeur[NOLINK][0])*[0]\n",
    "    return list(set(predecesseurs))\n",
    "def successeurs(G,s):\n",
    "    successeurs=[j for j in range(len(G[0])) if G[s][j]!=NOLINK]+[len(G)-1]\n",
    "    return successeurs\n",
    "    \n",
    "def intersection(lst1, lst2):  #intersection de deux listes\n",
    "    return list(set(lst1) & set(lst2)) \n"
   ]
  },
  {
   "cell_type": "code",
   "execution_count": 14,
   "metadata": {},
   "outputs": [],
   "source": [
    "def PLC(G,sommet_depart=0):\n",
    "    A = G; B = np.array(A)\n",
    "    if sommet_depart not in range(0,len(A)): \n",
    "        print(\"sommet inexistant\")\n",
    "        return\n",
    "    if (B.diagonal()!=NOLINK).any():\n",
    "        print(\"retranchez les valeurs des diagonales\")\n",
    "        return\n",
    "    λ = [INF for i in range(len(A))];plc = λ  \n",
    "    λ[sommet_depart] = 0\n",
    "    rang = 0\n",
    "    S = [sommet_depart]\n",
    "    r = [0 for i in range(len(G))] #liste des rangs des sommets\n",
    "    liste_sommets = [i for i in range(len(G))]\n",
    "\n",
    "    while len(S)!=len(A):\n",
    "        rang +=1\n",
    "        if afficher_commentaires: print(\"A: \",A)\n",
    "        listeDesSommes_prive_de_S = [i for i in liste_sommets if i not in S]\n",
    "        W = [i for i in listeDesSommes_prive_de_S if intersection(predecesseurs(G,i) , listeDesSommes_prive_de_S)==[]  ] \n",
    "        if afficher_commentaires: print(intersection(predecesseurs(G,7) , listeDesSommes_prive_de_S))\n",
    "        #l'ensemble des sommets qui ne sont pas dans S et qui n'ont pars de prédecesseurs\n",
    "        #on pose rang(v)=rang pour tout les éléments de W\n",
    "        for v in W:\n",
    "            r[v]=rang\n",
    "        S.extend(W)\n",
    "        \n",
    "\n",
    "    for k in range(1,rang+1):\n",
    "        for v in [ v  for v in liste_sommets if r[v]==k]:\n",
    "            N_moins = predecesseurs(G,v)\n",
    "            \n",
    "            plc[v] = max([ plc[w] + t(G, w, v)  for w in N_moins])\n",
    "            if afficher_commentaires:print(\"distance max entre {} et {} trouvé = {}\".format(sommet_depart,v,plc[v]))           \n",
    "    return λ\n"
   ]
  },
  {
   "cell_type": "code",
   "execution_count": 17,
   "metadata": {},
   "outputs": [],
   "source": [
    "def AuPlusTard(Gammes,solution,sommet_fin,afficher_commentaires=False):#G graphe orienté sans circuit; G est une matrice (n,n) et s, un entier entre 0 et len(A)-1, est le sommet de départ\n",
    "    Graphe = GRAPHE(solution,Gammes)\n",
    "    #des vérifications\n",
    "    A = Graphe; B = np.array(A)\n",
    "    if sommet_fin not in range(0,len(A)): \n",
    "        print(\"sommet inexistant\")\n",
    "        return\n",
    "    if (B.diagonal()!=NOLINK).any():\n",
    "        print(\"retranchez les valeurs des diagonales\")\n",
    "        return\n",
    "    if ( [len(Gammes),len(Gammes[0])] != [len(solution[0]),len(solution)] ):\n",
    "        print(\"la solution et la gamme ne correspondent pas\")\n",
    "        return\n",
    "\n",
    "    #des initialisations \n",
    "    auplustard = [INF for i in range(len(A))] #liste des distances à sommet_depart \n",
    "    auplustard[sommet_fin] = PLC(Graphe,sommet_depart=0)[-1]\n",
    "    rang = 0\n",
    "    S = [sommet_fin]#liste des sommets en cours s\n",
    "    r = [0 for i in range(len(Graphe))] #liste des rangs des sommets \n",
    "    liste_sommets = [i for i in range(len(Graphe))]\n",
    "\n",
    "    while len(S)!=len(A):\n",
    "        rang +=1\n",
    "        if afficher_commentaires:print(\"S\",S)\n",
    "        listeDesSommes_prive_de_S = [i for i in liste_sommets if i not in S]\n",
    "        W = [i for i in listeDesSommes_prive_de_S if intersection(successeurs(Graphe,i) , listeDesSommes_prive_de_S)==[]  ]\n",
    "        for v in W:\n",
    "            r[v]=rang\n",
    "        S.extend(W)\n",
    "        \n",
    "        #print(\"\\n\")\n",
    "        \n",
    "\n",
    "        \n",
    "    for k in range(1,rang+1):\n",
    "        for v in [ v  for v in liste_sommets if r[v]==k]:\n",
    "            N_plus = successeurs(Graphe,v)\n",
    "            auplustard[v] = min([ auplustard[w] - t(Graphe, v,w)  for w in N_plus])\n",
    "           \n",
    "        \n",
    "           \n",
    "    return auplustard"
   ]
  },
  {
   "cell_type": "code",
   "execution_count": 20,
   "metadata": {},
   "outputs": [],
   "source": [
    "def CRITIQUE(s):\n",
    "    auplustard = AUPLUTARD(s)\n",
    "    Graphe = GRAPHE(s)\n",
    "    plc = PLC(Graphe)\n",
    "    if len(plc)!=len(auplustard):\n",
    "        print(\"erreur\")\n",
    "    return [i for i in range(len(plc)) if plc[i]==auplustard[i] ]"
   ]
  },
  {
   "cell_type": "code",
   "execution_count": 22,
   "metadata": {},
   "outputs": [],
   "source": [
    "def CRITIQUESucc(machine,s):\n",
    "    CRITIQUESucc =[] #la liste des paires de noeuds (v,w) tq v et w sont critiques et consecutifs (sur une même machine)\n",
    "    indice_machine = machine-1\n",
    "    liste_pieces = s[indice_machine]\n",
    "    for j in range (len(liste_pieces)-1):\n",
    "        indice_piece1 = trouver_indice_piece_dans_la_solution_s(s,indice_machine,j)\n",
    "        indice_piece2 = trouver_indice_piece_dans_la_solution_s(s,indice_machine,j+1)\n",
    "        indice_pièce1ETmachine = trouver_indice_couple(indice_piece1,indice_machine,N,M)\n",
    "        indice_pièce2ETmachine = trouver_indice_couple(indice_piece2,indice_machine,N,M)\n",
    "        if indice_pièce1ETmachine in CRITIQUE(s) and indice_pièce2ETmachine in CRITIQUE(s):\n",
    "            CRITIQUESucc.append((indice_pièce1ETmachine,indice_pièce2ETmachine))\n",
    "         \n",
    "    return CRITIQUESucc"
   ]
  },
  {
   "cell_type": "code",
   "execution_count": 23,
   "metadata": {},
   "outputs": [],
   "source": [
    "def PERMUTER(s,x,y): #x et y sont les indices des couples\n",
    "    (piece1,machine1) = trouver_couple_dIndice(x) \n",
    "    (piece2,machine2) = trouver_couple_dIndice(y)\n",
    "    if machine1!=machine2:\n",
    "        print(\"on doit permute des tâches sur la même machine!\"); return\n",
    "    machine = machine1\n",
    "    s_modifié = copy.deepcopy(s)\n",
    "    s_modifié[machine][piece1],s_modifié[machine][piece2] = s_modifié[machine][piece2],s_modifié[machine][piece1]\n",
    "    return (s_modifié, GRAPHE(s_modifié))"
   ]
  },
  {
   "cell_type": "code",
   "execution_count": 26,
   "metadata": {},
   "outputs": [],
   "source": [
    "def INITIALISATION(nb_pieces,nb_machines):\n",
    "    n= nb_pieces\n",
    "    m = nb_machines\n",
    "    s = [ [i for i in range (n)] for i in range(m) ]\n",
    "    return s"
   ]
  },
  {
   "cell_type": "code",
   "execution_count": 29,
   "metadata": {},
   "outputs": [],
   "source": [
    "def RechercheTabou():\n",
    "    s = INITIALISATION() \n",
    "    Graphe = GRAPHE(s)\n",
    "    F= PLC(Graphe,sommet_depart=0)[-1] \n",
    "    compteur = 0\n",
    "    iteration = 0\n",
    "    S_etoile = copy.deepcopy(s) \n",
    "    F_etoile = F \n",
    "    nb_pieces,nb_machines = len(s[0]), len(s)\n",
    "    taille_graphe = 2 + nb_pieces*nb_machines\n",
    "    tabou = np.zeros((taille_graphe,taille_graphe)) \n",
    "    while(compteur<100):\n",
    "        compteur+=1\n",
    "        iteration+=1\n",
    "        N=[]\n",
    "        for indice_machine in range(nb_machines):\n",
    "            machine = indice_machine+1\n",
    "            N.extend( CRITIQUESucc( machine,S_etoile))\n",
    "        Best = INF\n",
    "        xBest = yBest = 0\n",
    "        for (x,y) in N:\n",
    "            G_prime = PERMUTER(s,x,y)[1]\n",
    "            print(G_prime)\n",
    "            F = PLC(G_prime,sommet_depart=0)[-1] #le makespan\n",
    "            if (F<Best and ( tabou[x][y] < iteration or F<F_etoile) and x!=0 and y!=0):\n",
    "                Best = F\n",
    "                xBest = x\n",
    "                yBest = y\n",
    "    s_ap_permutation = PERMUTER(S,xBest,yBest)[0]\n",
    "    tabou[xBest][yBest] = iteration+10\n",
    "    tabou[yBest][xBest] = iteration+10\n",
    "    if Best < F_etoile:\n",
    "        S_etoile = s_ap_permutation\n",
    "        F_etoile = Best\n",
    "        compteur = 0\n",
    "    return Best"
   ]
  }
 ],
 "metadata": {
  "kernelspec": {
   "display_name": "Python 3",
   "language": "python",
   "name": "python3"
  },
  "language_info": {
   "codemirror_mode": {
    "name": "ipython",
    "version": 3
   },
   "file_extension": ".py",
   "mimetype": "text/x-python",
   "name": "python",
   "nbconvert_exporter": "python",
   "pygments_lexer": "ipython3",
   "version": "3.8.5"
  }
 },
 "nbformat": 4,
 "nbformat_minor": 4
}
