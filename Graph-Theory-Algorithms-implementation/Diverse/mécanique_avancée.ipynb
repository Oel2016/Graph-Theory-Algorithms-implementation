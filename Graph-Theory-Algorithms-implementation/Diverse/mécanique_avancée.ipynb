{
 "cells": [
  {
   "cell_type": "markdown",
   "metadata": {},
   "source": [
    "#### Code Source : Projet mécanique avancée "
   ]
  },
  {
   "cell_type": "code",
   "execution_count": 8,
   "metadata": {},
   "outputs": [
    {
     "data": {
      "text/plain": [
       "1.7277944748188954"
      ]
     },
     "execution_count": 8,
     "metadata": {},
     "output_type": "execute_result"
    }
   ],
   "source": [
    "import random\n",
    "q=1.5\n",
    "l=1.2*10**(-3)\n",
    "from random import uniform \n",
    "def esperance(N):\n",
    "    s=0\n",
    "    for i in range(10000):\n",
    "        k=random.uniform(7,33)\n",
    "        h=(q/(k*l**(1/2)))**(3/5)\n",
    "        s+=h\n",
    "    return s/N\n",
    "esperance(10000)"
   ]
  },
  {
   "cell_type": "code",
   "execution_count": 12,
   "metadata": {},
   "outputs": [
    {
     "data": {
      "text/plain": [
       "0.22186805303542065"
      ]
     },
     "execution_count": 12,
     "metadata": {},
     "output_type": "execute_result"
    }
   ],
   "source": [
    "def variance(N):\n",
    "    v=0\n",
    "    g=esperance(N)\n",
    "    for i in range(N):\n",
    "        k=random.uniform(7,33)\n",
    "        h=(q/(k*l**(1/2)))**(3/5)\n",
    "        v+=(h-g)**(2)\n",
    "    return (v/N)\n",
    "variance(10000)       \n",
    "nombreIntervalle=(ma-mi)**(1/2)"
   ]
  },
  {
   "cell_type": "code",
   "execution_count": 54,
   "metadata": {},
   "outputs": [
    {
     "data": {
      "image/png": "[encoded data removed]",
      "text/plain": [
       "<Figure size 432x288 with 1 Axes>"
      ]
     },
     "metadata": {
      "needs_background": "light"
     },
     "output_type": "display_data"
    }
   ],
   "source": [
    "import matplotlib.pyplot as plt\n",
    "L=[]\n",
    "for i in range(10000):\n",
    "    k=random.uniform(7,33)\n",
    "    h=(q/(k*l**(1/2)))**(3/5)*100\n",
    "    L.append(h)\n",
    "ma=max(L)\n",
    "mi=min(L)\n",
    "nombreIntervalle=int((ma-mi)**(1/2))\n",
    "plt.hist(L,bins=nombreIntervalle)\n",
    "plt.show()    "
   ]
  }
 ],
 "metadata": {
  "kernelspec": {
   "display_name": "Python 3",
   "language": "python",
   "name": "python3"
  },
  "language_info": {
   "codemirror_mode": {
    "name": "ipython",
    "version": 3
   },
   "file_extension": ".py",
   "mimetype": "text/x-python",
   "name": "python",
   "nbconvert_exporter": "python",
   "pygments_lexer": "ipython3",
   "version": "3.8.5"
  }
 },
 "nbformat": 4,
 "nbformat_minor": 4
}
