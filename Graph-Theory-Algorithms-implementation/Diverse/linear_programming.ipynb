{
 "cells": [
  {
   "cell_type": "markdown",
   "metadata": {},
   "source": [
    "### Exercice de cours : Linear programming "
   ]
  },
  {
   "cell_type": "code",
   "execution_count": 1,
   "metadata": {},
   "outputs": [],
   "source": [
    "import pulp "
   ]
  },
  {
   "cell_type": "code",
   "execution_count": 2,
   "metadata": {},
   "outputs": [
    {
     "data": {
      "text/plain": [
       "['Tanger', 'Casablanca', 'Agadir']"
      ]
     },
     "execution_count": 2,
     "metadata": {},
     "output_type": "execute_result"
    }
   ],
   "source": [
    "usines=['Tanger', 'Casablanca','Agadir']\n",
    "usines "
   ]
  },
  {
   "cell_type": "code",
   "execution_count": 3,
   "metadata": {},
   "outputs": [
    {
     "data": {
      "text/plain": [
       "900"
      ]
     },
     "execution_count": 3,
     "metadata": {},
     "output_type": "execute_result"
    }
   ],
   "source": [
    "capacité={'Tanger':900 , 'Casablanca':2400,'Agadir':1300}\n",
    "capacité['Tanger']"
   ]
  },
  {
   "cell_type": "code",
   "execution_count": 4,
   "metadata": {},
   "outputs": [
    {
     "data": {
      "text/plain": [
       "['Marrakech', 'Kenitra', 'Rabat', 'Benguerir']"
      ]
     },
     "execution_count": 4,
     "metadata": {},
     "output_type": "execute_result"
    }
   ],
   "source": [
    "magasins=['Marrakech', 'Kenitra','Rabat','Benguerir']\n",
    "magasins"
   ]
  },
  {
   "cell_type": "code",
   "execution_count": 5,
   "metadata": {},
   "outputs": [
    {
     "data": {
      "text/plain": [
       "{'Marrakech': 1700, 'Kenitra': 1000, 'Rabat': 1500, 'Benguerir': 1200}"
      ]
     },
     "execution_count": 5,
     "metadata": {},
     "output_type": "execute_result"
    }
   ],
   "source": [
    "demande={'Marrakech': 1700, 'Kenitra':1000,'Rabat':1500,'Benguerir':1200}\n",
    "demande"
   ]
  },
  {
   "cell_type": "code",
   "execution_count": 6,
   "metadata": {},
   "outputs": [
    {
     "data": {
      "text/plain": [
       "[[2, 7, 4, 6], [6, 3, 4, 5], [8, 4, 6, 5]]"
      ]
     },
     "execution_count": 6,
     "metadata": {},
     "output_type": "execute_result"
    }
   ],
   "source": [
    "Matrice_cout=[\n",
    "             #MR  #KE   #RA   #BEN\n",
    "             [2,   7,    4,     6], #TA\n",
    "             [6,   3,    4,     5], #CASA\n",
    "             [8,   4,    6,     5]  #AG\n",
    "]\n",
    "Matrice_cout"
   ]
  },
  {
   "cell_type": "code",
   "execution_count": 7,
   "metadata": {},
   "outputs": [
    {
     "data": {
      "text/plain": [
       "{'Tanger': {'Marrakech': 2, 'Kenitra': 7, 'Rabat': 4, 'Benguerir': 6},\n",
       " 'Casablanca': {'Marrakech': 6, 'Kenitra': 3, 'Rabat': 4, 'Benguerir': 5},\n",
       " 'Agadir': {'Marrakech': 8, 'Kenitra': 4, 'Rabat': 6, 'Benguerir': 5}}"
      ]
     },
     "execution_count": 7,
     "metadata": {},
     "output_type": "execute_result"
    }
   ],
   "source": [
    "#On tansforme la matrice des couts en un dict de dict car pulp travaille avec des dict\n",
    "cout={}\n",
    "for i in range(len(usines)):\n",
    "    temp_dict={}\n",
    "    for j in range(len(magasins)):\n",
    "        temp_dict[magasins[j]]=Matrice_cout[i][j]\n",
    "    cout[usines[i]]=temp_dict\n",
    "cout    "
   ]
  },
  {
   "cell_type": "code",
   "execution_count": 8,
   "metadata": {},
   "outputs": [
    {
     "data": {
      "text/plain": [
       "[('Tanger', 'Marrakech'),\n",
       " ('Tanger', 'Kenitra'),\n",
       " ('Tanger', 'Rabat'),\n",
       " ('Tanger', 'Benguerir'),\n",
       " ('Casablanca', 'Marrakech'),\n",
       " ('Casablanca', 'Kenitra'),\n",
       " ('Casablanca', 'Rabat'),\n",
       " ('Casablanca', 'Benguerir'),\n",
       " ('Agadir', 'Marrakech'),\n",
       " ('Agadir', 'Kenitra'),\n",
       " ('Agadir', 'Rabat'),\n",
       " ('Agadir', 'Benguerir')]"
      ]
     },
     "execution_count": 8,
     "metadata": {},
     "output_type": "execute_result"
    }
   ],
   "source": [
    "Trajet=[]\n",
    "for p in usines:\n",
    "    for s in magasins:\n",
    "        Trajet.append((p,s))\n",
    "Trajet"
   ]
  },
  {
   "cell_type": "code",
   "execution_count": 9,
   "metadata": {},
   "outputs": [
    {
     "data": {
      "text/plain": [
       "{'Tanger': {'Marrakech': Qv_Tanger_Marrakech,\n",
       "  'Kenitra': Qv_Tanger_Kenitra,\n",
       "  'Rabat': Qv_Tanger_Rabat,\n",
       "  'Benguerir': Qv_Tanger_Benguerir},\n",
       " 'Casablanca': {'Marrakech': Qv_Casablanca_Marrakech,\n",
       "  'Kenitra': Qv_Casablanca_Kenitra,\n",
       "  'Rabat': Qv_Casablanca_Rabat,\n",
       "  'Benguerir': Qv_Casablanca_Benguerir},\n",
       " 'Agadir': {'Marrakech': Qv_Agadir_Marrakech,\n",
       "  'Kenitra': Qv_Agadir_Kenitra,\n",
       "  'Rabat': Qv_Agadir_Rabat,\n",
       "  'Benguerir': Qv_Agadir_Benguerir}}"
      ]
     },
     "execution_count": 9,
     "metadata": {},
     "output_type": "execute_result"
    }
   ],
   "source": [
    "Q_variable=pulp.LpVariable.dicts(\"Qv\",(usines,magasins),0,None,pulp.LpInteger)\n",
    "Q_variable"
   ]
  },
  {
   "cell_type": "code",
   "execution_count": 10,
   "metadata": {},
   "outputs": [
    {
     "data": {
      "text/plain": [
       "5*Qv_Agadir_Benguerir + 4*Qv_Agadir_Kenitra + 8*Qv_Agadir_Marrakech + 6*Qv_Agadir_Rabat + 5*Qv_Casablanca_Benguerir + 3*Qv_Casablanca_Kenitra + 6*Qv_Casablanca_Marrakech + 4*Qv_Casablanca_Rabat + 6*Qv_Tanger_Benguerir + 7*Qv_Tanger_Kenitra + 2*Qv_Tanger_Marrakech + 4*Qv_Tanger_Rabat + 0"
      ]
     },
     "execution_count": 10,
     "metadata": {},
     "output_type": "execute_result"
    }
   ],
   "source": [
    "# définir la fonction objective, à minimiser \n",
    "obj=0\n",
    "for (p,s) in Trajet:\n",
    "    obj+=Q_variable[p][s]*cout[p][s]\n",
    "obj"
   ]
  },
  {
   "cell_type": "code",
   "execution_count": 11,
   "metadata": {},
   "outputs": [
    {
     "data": {
      "text/plain": [
       "Supply_Demand:\n",
       "MINIMIZE\n",
       "5*Qv_Agadir_Benguerir + 4*Qv_Agadir_Kenitra + 8*Qv_Agadir_Marrakech + 6*Qv_Agadir_Rabat + 5*Qv_Casablanca_Benguerir + 3*Qv_Casablanca_Kenitra + 6*Qv_Casablanca_Marrakech + 4*Qv_Casablanca_Rabat + 6*Qv_Tanger_Benguerir + 7*Qv_Tanger_Kenitra + 2*Qv_Tanger_Marrakech + 4*Qv_Tanger_Rabat + 0\n",
       "VARIABLES\n",
       "0 <= Qv_Agadir_Benguerir Integer\n",
       "0 <= Qv_Agadir_Kenitra Integer\n",
       "0 <= Qv_Agadir_Marrakech Integer\n",
       "0 <= Qv_Agadir_Rabat Integer\n",
       "0 <= Qv_Casablanca_Benguerir Integer\n",
       "0 <= Qv_Casablanca_Kenitra Integer\n",
       "0 <= Qv_Casablanca_Marrakech Integer\n",
       "0 <= Qv_Casablanca_Rabat Integer\n",
       "0 <= Qv_Tanger_Benguerir Integer\n",
       "0 <= Qv_Tanger_Kenitra Integer\n",
       "0 <= Qv_Tanger_Marrakech Integer\n",
       "0 <= Qv_Tanger_Rabat Integer"
      ]
     },
     "execution_count": 11,
     "metadata": {},
     "output_type": "execute_result"
    }
   ],
   "source": [
    "prob=pulp.LpProblem(\"Supply_Demand\",pulp.LpMinimize)\n",
    "prob+=obj\n",
    "prob"
   ]
  },
  {
   "cell_type": "code",
   "execution_count": 14,
   "metadata": {},
   "outputs": [
    {
     "data": {
      "text/plain": [
       "Supply_Demand:\n",
       "MINIMIZE\n",
       "5*Qv_Agadir_Benguerir + 4*Qv_Agadir_Kenitra + 8*Qv_Agadir_Marrakech + 6*Qv_Agadir_Rabat + 5*Qv_Casablanca_Benguerir + 3*Qv_Casablanca_Kenitra + 6*Qv_Casablanca_Marrakech + 4*Qv_Casablanca_Rabat + 6*Qv_Tanger_Benguerir + 7*Qv_Tanger_Kenitra + 2*Qv_Tanger_Marrakech + 4*Qv_Tanger_Rabat + 0\n",
       "SUBJECT TO\n",
       "_C1: Qv_Tanger_Benguerir + Qv_Tanger_Kenitra + Qv_Tanger_Marrakech\n",
       " + Qv_Tanger_Rabat <= 900\n",
       "\n",
       "_C2: Qv_Casablanca_Benguerir + Qv_Casablanca_Kenitra + Qv_Casablanca_Marrakech\n",
       " + Qv_Casablanca_Rabat <= 2400\n",
       "\n",
       "_C3: Qv_Agadir_Benguerir + Qv_Agadir_Kenitra + Qv_Agadir_Marrakech\n",
       " + Qv_Agadir_Rabat <= 1300\n",
       "\n",
       "_C4: Qv_Tanger_Benguerir + Qv_Tanger_Kenitra + Qv_Tanger_Marrakech\n",
       " + Qv_Tanger_Rabat <= 900\n",
       "\n",
       "_C5: Qv_Casablanca_Benguerir + Qv_Casablanca_Kenitra + Qv_Casablanca_Marrakech\n",
       " + Qv_Casablanca_Rabat <= 2400\n",
       "\n",
       "_C6: Qv_Agadir_Benguerir + Qv_Agadir_Kenitra + Qv_Agadir_Marrakech\n",
       " + Qv_Agadir_Rabat <= 1300\n",
       "\n",
       "_C7: Qv_Agadir_Marrakech + Qv_Casablanca_Marrakech + Qv_Tanger_Marrakech\n",
       " >= 1700\n",
       "\n",
       "_C8: Qv_Agadir_Kenitra + Qv_Casablanca_Kenitra + Qv_Tanger_Kenitra >= 1000\n",
       "\n",
       "_C9: Qv_Agadir_Rabat + Qv_Casablanca_Rabat + Qv_Tanger_Rabat >= 1500\n",
       "\n",
       "_C10: Qv_Agadir_Benguerir + Qv_Casablanca_Benguerir + Qv_Tanger_Benguerir\n",
       " >= 1200\n",
       "\n",
       "VARIABLES\n",
       "0 <= Qv_Agadir_Benguerir Integer\n",
       "0 <= Qv_Agadir_Kenitra Integer\n",
       "0 <= Qv_Agadir_Marrakech Integer\n",
       "0 <= Qv_Agadir_Rabat Integer\n",
       "0 <= Qv_Casablanca_Benguerir Integer\n",
       "0 <= Qv_Casablanca_Kenitra Integer\n",
       "0 <= Qv_Casablanca_Marrakech Integer\n",
       "0 <= Qv_Casablanca_Rabat Integer\n",
       "0 <= Qv_Tanger_Benguerir Integer\n",
       "0 <= Qv_Tanger_Kenitra Integer\n",
       "0 <= Qv_Tanger_Marrakech Integer\n",
       "0 <= Qv_Tanger_Rabat Integer"
      ]
     },
     "execution_count": 14,
     "metadata": {},
     "output_type": "execute_result"
    }
   ],
   "source": [
    "for i in range(len(usines)):\n",
    "    s=0\n",
    "    for p in range(len(magasins)):\n",
    "        s += Q_variable[usines[i]][magasins[p]]\n",
    "    prob+= s<= capacité[usines[i]] \n",
    "\n",
    "for i in range(len(magasins)):\n",
    "    s=0\n",
    "    for j in range(len(usines)):\n",
    "        s+=Q_variable[usines[j]][magasins[i]]\n",
    "    prob+= s>=demande[magasins[i]] \n",
    "prob"
   ]
  },
  {
   "cell_type": "code",
   "execution_count": 15,
   "metadata": {},
   "outputs": [
    {
     "data": {
      "text/plain": [
       "-1"
      ]
     },
     "execution_count": 15,
     "metadata": {},
     "output_type": "execute_result"
    }
   ],
   "source": [
    "prob.solve()"
   ]
  },
  {
   "cell_type": "code",
   "execution_count": 17,
   "metadata": {},
   "outputs": [
    {
     "name": "stdout",
     "output_type": "stream",
     "text": [
      "status Infeasible\n"
     ]
    }
   ],
   "source": [
    "print('status',pulp.LpStatus[prob.status])"
   ]
  },
  {
   "cell_type": "code",
   "execution_count": 19,
   "metadata": {},
   "outputs": [
    {
     "name": "stdout",
     "output_type": "stream",
     "text": [
      "Qv_Agadir_Benguerir = 1200.0\n",
      "Qv_Agadir_Kenitra = 900.0\n",
      "Qv_Agadir_Marrakech = 0.0\n",
      "Qv_Agadir_Rabat = 0.0\n",
      "Qv_Casablanca_Benguerir = 0.0\n",
      "Qv_Casablanca_Kenitra = 100.0\n",
      "Qv_Casablanca_Marrakech = 800.0\n",
      "Qv_Casablanca_Rabat = 1500.0\n",
      "Qv_Tanger_Benguerir = 0.0\n",
      "Qv_Tanger_Kenitra = 0.0\n",
      "Qv_Tanger_Marrakech = 900.0\n",
      "Qv_Tanger_Rabat = 0.0\n"
     ]
    }
   ],
   "source": [
    "for v in prob.variables():\n",
    "    print(v.name,'=',v.varValue)"
   ]
  },
  {
   "cell_type": "code",
   "execution_count": 20,
   "metadata": {},
   "outputs": [
    {
     "data": {
      "text/plain": [
       "22500.0"
      ]
     },
     "execution_count": 20,
     "metadata": {},
     "output_type": "execute_result"
    }
   ],
   "source": [
    "pulp.value(prob.objective)"
   ]
  }
 ],
 "metadata": {
  "kernelspec": {
   "display_name": "Python 3",
   "language": "python",
   "name": "python3"
  },
  "language_info": {
   "codemirror_mode": {
    "name": "ipython",
    "version": 3
   },
   "file_extension": ".py",
   "mimetype": "text/x-python",
   "name": "python",
   "nbconvert_exporter": "python",
   "pygments_lexer": "ipython3",
   "version": "3.8.5"
  }
 },
 "nbformat": 4,
 "nbformat_minor": 4
}
