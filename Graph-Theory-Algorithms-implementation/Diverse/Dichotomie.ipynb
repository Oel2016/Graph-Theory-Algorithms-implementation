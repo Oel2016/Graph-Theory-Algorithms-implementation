{
 "cells": [
  {
   "cell_type": "code",
   "execution_count": 30,
   "metadata": {},
   "outputs": [],
   "source": [
    "def dichotomie(f,a,b,epsilon):\n",
    "    if f(a)*f(b)>0: \n",
    "        return (\"Mauvais choix de a ou b\")\n",
    "    else: \n",
    "        m=(a+b)/2\n",
    "        while abs(a-b)>epsilon:\n",
    "            if f(m)==0:\n",
    "                return m \n",
    "            elif f(a)*f(b)>0:\n",
    "                a=m\n",
    "            else:\n",
    "                b=m\n",
    "            m=(a+b)/2\n",
    "        return (m,a,b)   "
   ]
  },
  {
   "cell_type": "code",
   "execution_count": 31,
   "metadata": {},
   "outputs": [
    {
     "data": {
      "text/plain": [
       "(-3.2503662109375, -3.250732421875, -3.25)"
      ]
     },
     "execution_count": 31,
     "metadata": {},
     "output_type": "execute_result"
    }
   ],
   "source": [
    "dichotomie(lambda x: (5*x*x+2*x-34),-4,-1, 0.001)"
   ]
  }
 ],
 "metadata": {
  "kernelspec": {
   "display_name": "Python 3",
   "language": "python",
   "name": "python3"
  },
  "language_info": {
   "codemirror_mode": {
    "name": "ipython",
    "version": 3
   },
   "file_extension": ".py",
   "mimetype": "text/x-python",
   "name": "python",
   "nbconvert_exporter": "python",
   "pygments_lexer": "ipython3",
   "version": "3.8.5"
  }
 },
 "nbformat": 4,
 "nbformat_minor": 4
}
