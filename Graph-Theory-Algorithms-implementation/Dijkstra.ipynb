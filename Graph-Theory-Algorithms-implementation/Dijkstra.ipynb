{
 "cells": [
  {
   "cell_type": "markdown",
   "metadata": {},
   "source": [
    "### TD1 : Programmation de l'algoritme de Dijkstra "
   ]
  },
  {
   "cell_type": "code",
   "execution_count": 4,
   "metadata": {},
   "outputs": [],
   "source": [
    "import numpy as np"
   ]
  },
  {
   "cell_type": "code",
   "execution_count": 34,
   "metadata": {},
   "outputs": [],
   "source": [
    "# Algorithme générique \n",
    "def PCC(A,s):\n",
    "    n=len(A)\n",
    "    l=[0]+[np.sum(A) for k in range(n-1)] #longueur positives, la somme est toujours supérieur à la distance de la source à un noeud donné \n",
    "    Q=[s]   # Q contient les indices des sommets et donc les indices de l \n",
    "    while len(Q)!=0:\n",
    "        i=Q[0]\n",
    "        Q=Q[1:]\n",
    "        for k in A[i]: \n",
    "            if k!=0:\n",
    "                j=A[i].index(k)\n",
    "                if l[j]>l[i]+A[i][j]:\n",
    "                    l[j]=l[i]+A[i][j]\n",
    "                    Q.append(j)\n",
    "    return l        "
   ]
  },
  {
   "cell_type": "code",
   "execution_count": 1,
   "metadata": {},
   "outputs": [],
   "source": [
    "A=[[0,3,1,0],[0,0,1,2],[0,1,0,3],[0,0,0,0]]"
   ]
  },
  {
   "cell_type": "code",
   "execution_count": 35,
   "metadata": {},
   "outputs": [
    {
     "data": {
      "text/plain": [
       "[0, 2, 1, 4]"
      ]
     },
     "execution_count": 35,
     "metadata": {},
     "output_type": "execute_result"
    }
   ],
   "source": [
    "PCC(A,0)"
   ]
  },
  {
   "cell_type": "code",
   "execution_count": 24,
   "metadata": {},
   "outputs": [],
   "source": [
    "# Algorithme de Dijkstra \n",
    "def PCCDij(A,s):\n",
    "    n=len(A)\n",
    "    l=[0]+[np.sum(A) for k in range(n-1)]\n",
    "    Q=[s]\n",
    "    while len(Q)!=0:\n",
    "        h=[l[e] for e in Q]\n",
    "        m=h[0]\n",
    "        p=Q[0]\n",
    "        for e in Q: # chercher le minimum\n",
    "            if l[e]<m:\n",
    "                m=l[e]\n",
    "                p=e\n",
    "        Q.remove(p)\n",
    "        for k in A[p]: \n",
    "            if k!=0:\n",
    "                j=A[p].index(k)\n",
    "                if l[j]>m+A[p][j]:\n",
    "                    l[j]=m+A[p][j]\n",
    "                    Q.append(j)\n",
    "    return l   "
   ]
  },
  {
   "cell_type": "code",
   "execution_count": 8,
   "metadata": {},
   "outputs": [
    {
     "data": {
      "text/plain": [
       "[0, 2, 1, 4]"
      ]
     },
     "execution_count": 8,
     "metadata": {},
     "output_type": "execute_result"
    }
   ],
   "source": [
    "PCCD(A,0)"
   ]
  },
  {
   "cell_type": "code",
   "execution_count": 9,
   "metadata": {},
   "outputs": [],
   "source": [
    "A=[[0,3,0,3,5,0,0,0],[0,0,2,0,0,0,0,0],[0,0,0,0,0,1,0,0],[0,0,1,0,0,0,0,0],[0,0,0,3,0,0,2,7],[0,0,0,0,0,0,3,0],[0,0,0,1,0,0,0,2],[0,0,0,0,0,6,0,0]]"
   ]
  },
  {
   "cell_type": "code",
   "execution_count": 25,
   "metadata": {},
   "outputs": [
    {
     "data": {
      "text/plain": [
       "[0, 3, 5, 8, 5, 6, 7, 9]"
      ]
     },
     "execution_count": 25,
     "metadata": {},
     "output_type": "execute_result"
    }
   ],
   "source": [
    "PCCDij(A,0)"
   ]
  },
  {
   "cell_type": "code",
   "execution_count": 12,
   "metadata": {},
   "outputs": [],
   "source": [
    "B=[[0,2,1,0],[0,0,-2,1],[0,2,0,1],[0,0,0,0]]"
   ]
  },
  {
   "cell_type": "code",
   "execution_count": 13,
   "metadata": {},
   "outputs": [
    {
     "data": {
      "text/plain": [
       "[0, 2, 0, 1]"
      ]
     },
     "execution_count": 13,
     "metadata": {},
     "output_type": "execute_result"
    }
   ],
   "source": [
    "PCCD(B,0)"
   ]
  }
 ],
 "metadata": {
  "kernelspec": {
   "display_name": "Python 3",
   "language": "python",
   "name": "python3"
  },
  "language_info": {
   "codemirror_mode": {
    "name": "ipython",
    "version": 3
   },
   "file_extension": ".py",
   "mimetype": "text/x-python",
   "name": "python",
   "nbconvert_exporter": "python",
   "pygments_lexer": "ipython3",
   "version": "3.8.5"
  }
 },
 "nbformat": 4,
 "nbformat_minor": 4
}
